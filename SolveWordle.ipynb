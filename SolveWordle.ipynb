{
 "cells": [
  {
   "cell_type": "markdown",
   "metadata": {
    "colab_type": "text",
    "id": "view-in-github"
   },
   "source": [
    "<a href=\"https://colab.research.google.com/github/vladistan/wordle-solver/blob/main/SolveWordle.ipynb\" target=\"_parent\"><img src=\"https://colab.research.google.com/assets/colab-badge.svg\" alt=\"Open In Colab\"/></a>   [![Binder](https://mybinder.org/badge_logo.svg)](https://mybinder.org/v2/gh/vladistan/wordle-solver/main?labpath=SolveWordle.ipynb)"
   ]
  },
  {
   "cell_type": "markdown",
   "metadata": {
    "id": "cBINEzHAD7RD"
   },
   "source": [
    "# My Wordle Solver\n",
    "\n",
    "Looks like the `Wordle` game has taken the world by the storm.  Here is my contribution to this madness.  This interactive notebook provides the solver that comes up with the next best choice to use as a guess word.\n",
    "\n",
    "Most of the time this solver takes between 3 to 4 attempts to solve the puzzle. The performance for the last two weeks is  on the stats badge below. Note that this statistics include older versions of the solver that had some bugs that affected the accuracy.\n",
    "\n",
    "\n",
    "![image.png](data:image/png;base64,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)\n",
    "\n",
    "\n",
    "### How does it work?\n",
    "\n",
    "Unlike other solvers on the internet this one uses both the likelyhood of the word to contain a particular letter and the likelyhood of each letter being at a particular position.  Unlike *hangman*, in the *Wordle* puzzle we need to guess both a letter and it's position.\n",
    "\n",
    "A lot of english words start with the letters 'm' or 's' and end with 's' or 'e'. \n",
    "\n",
    "After the solver produces a guess word the user has to enter it into the today's game and provide the solver with the feedback.  The solver uses the feedback to cull the list of potential words and use the relative frequencies of each letter in each position of the culled list.\n",
    "\n",
    "Eventually the list of alternatives becomes very small. When the list size is less than 3 words relative frequencies don't help anymore and everything boils down to the random choice.  Luckly the solver has 30% chance to guess the word correctly.\n",
    "\n",
    "\n",
    "\n"
   ]
  },
  {
   "cell_type": "markdown",
   "metadata": {
    "id": "JESpCQwTSdZ4"
   },
   "source": [
    "## 1. Initial prep\n",
    "\n",
    "We need to do some initial preparations before we can start solving the puzzle.  Run all the cells below until you get to the section 2"
   ]
  },
  {
   "cell_type": "markdown",
   "metadata": {
    "id": "5ZYKkAy4PFOb"
   },
   "source": [
    "### 1.1 Libraries\n",
    "\n",
    "Import some libraries.  Nothing unusual,  just some standard things"
   ]
  },
  {
   "cell_type": "code",
   "execution_count": null,
   "metadata": {
    "id": "k5BNfw5EDg8Z"
   },
   "outputs": [],
   "source": [
    "import re\n",
    "from collections import defaultdict\n",
    "from base64 import b85decode\n",
    "import random\n",
    "import zlib\n",
    "import bz2\n"
   ]
  },
  {
   "cell_type": "markdown",
   "metadata": {
    "id": "sH2fXK31PQao"
   },
   "source": [
    "### 1.2 The dataset\n",
    "\n",
    "Then we need a worldlist, you are not supposed to understand next 3 cells.  This is some magic we use to get the word dataset in the from we need.  The magic comes from another project that is used to solve the 'Evil' version of Wordle in the least number of steps. "
   ]
  },
  {
   "cell_type": "code",
   "execution_count": null,
   "metadata": {
    "id": "FVOyW-CLDkNd"
   },
   "outputs": [],
   "source": [
    "c2 = \"\"\"\n",
    "LRx4!F+o`-Q(65bK<xk=6j^{^000Dk@IU|m^k5oRH&bl`Rb#lOmD>%uKmbqx1f&CS000g^eSkHi(}TW}ilTr3C4ImE0jhWq0D@>DXr@y=P-&oKl|qI934j7A`V9\n",
    "(%X^lM;%4E$(dV#6o2$2m&6+hBQ10z8vs#JwAnJ1KK<5cwn36MgPM9O(5kkSS~0RI4wd*LUC!{y<h9j}gMHr*?t@h!<9kCp0kwq&q@YY}V|z<HH40=bu?4uq^db\n",
    "M4u6{(O5ne4heA?|CVxOV~I`Aoz)NpsMF{*73Q~d^-tN_uP_!2j0)?o;9UyG-Ntys$EL@qXcCZmr+d2y?-mWJ#IayJ5!^j6%55oO|51o;xQ*er<#}u`9E{P0g>+\n",
    "4f;^CD(s~W~G&k-?*#Q>*p`~dxUlNj3l4%kO1kMstKXO38cjtoVzII<eQOwec)4eH`UUO)<kA74(w!^{m*pZ?3e4kPBmb7*BPY3Iry%7h;;D!&VX!sP>Cnt(IoK\n",
    "|@~#TI&cc4$htd68k6B1<UA>MxRJo;=t#3=y7_&#no*`9zd_1RbdM)Pu~v5cWt;{|c8kp-&<2-p%ww(dVRajW2Ft4sb^;&-L72i`cVX5&ZS%zXh>+_@0P6!S+zl\n",
    ";@j5z8*|S-TWXDa#mw^A(TE=E#te+eoQ@=a3MC^&1tvPzfwz!fGC0>HJV?GEkExj-Ip2dE4o`*X)ShB?xm%e+)lQWau69$j8E$9L^Q#t*2wd_{(J7HR!3^N3v9U\n",
    "$IIs56IQfDbVP#5@HG)UlySgF<`9jToZ`s5c+U3c4)^km&HZnd1o;CmwkK!(ZDgz-7nW6iE^PRwn@`bVTYBa<+zX4-O!n{_NI>dK3^0MlFWOZn@)^a;kt@kk;np\n",
    "Qar$`%py*L@{|UXmm8#rZ@^z3XI6ybLor@nCsRiF-9qjxM4ye3WXHGBvK+lN?4D{a6T#adl_hfb{r>WeuR!?8TISi3rW+jK1>^%X&BK}^26v11&3RDFh~rHUXf8\n",
    "|xhnTlBsIH(dEdXczpNh><bAPj8pKzSKnLqI9*94-Gm-HtU!iUSVbv4BmdM+Tf-FYyobp#jRH7<^J6i5TKR&-dAD8(NeSA8jM%5pvJo?ROJ-BWqY~pp<$UK^&r<\n",
    "<u8&OPuioM?5s@NPt|NH}kdt~@%F_8@LX6wE-+XYyeXd}N=Wr(75KLd2vzbKgB5qVl1~sBB1TZS57<8JVDHAI^5EZNAn`*MdUN)b*QK^OawqVIc@F&$YNkeDvkM\n",
    "v@G9bhDKz}zM+=x!dRrJn<vZPS?hnF4cL$31OTFY4+J(z6m~)dH~RAMnmSH$B3Z^hMQGJ`AX0&*)|}|SL2N*_DU^(idOsfie$zi%e=&KV(<j@A8#sl%=E~W^UGI\n",
    "4ez>u{-+e9vU<(I?cx(gp1h1;*XsxWsh?DL3tgxI@<)kvPkuMdR+1Qo7CSSwlFOwaGvp3A~{CH3esrO)bS8CZ2{nV+o9DU)Y)cc(^(N{MIfBM2i{TEn9Qg4<!Aw\n",
    "sHsvcE+Da@?KMALqdrOUf~n~fNxYN`d%~VpCH-7K5f?$GK#2}AuwoI=Ge88SsR$aHEM4;9UMn$5MIaEx4)hff$d3DchAn#(<F$by^*jpV<bZ!l>9J<*@FZ?kJ?G\n",
    "wZFAyWudfKcj6gb>mzXPt-vnOxw;Fzl+hRShf-DAw*{XJfW83BRArL`BvLPcpROIr&X+m)YB7}l8g+|pO+tQIVq}eD_B|{K9DY1qU0=hQ<Y0+BCp{Nw}EWs}<iq\n",
    "s2}a$v3FROnwaoU&<A*%)4Pjg@$rd`pUjW!)#Rj6zDG$lZ~ISmPL*)mF7?OB-dij@4Fcb0BFIYPCQ!RYP}ews(lfj`)JLy34AQEeRDpo?~hnpYh9DTS1<I9a7re\n",
    "-7y+xZ_d`&u(;T{OQ8!%%#$>GBnEJ8_f^&pDcTZju5<)*y#my;#8`+oOu|zbU}z9#npCGs5DFQWy66DQ>dbti0C~9IBw$0)Al%;4!g6+C1aWeBA>`D?>wSs<Z;n\n",
    "SF6<coeXE#Mv=c<Ju{Bx(dNu6C?nXF)aAqm$kT+D#zP*(?XmK+3D(z-ImSC#a=_8O%b>F~RlB<iXvMj6h_-ywn{)E8DQhzXfXcTz$j9Or-@D?|o2FCMvd0s`u*#\n",
    "ZdusE|#5cU<kIHYt%$QTm_ir+Yn}2G9WJEk*nf3?nk{U9Xs@^%iKM3D~btbPbs5M200tSROK$Iu3Cw*%^N_9p_N&goJ`*<o|B0COzBh4wggJMH;P07dAi<+4LP9\n",
    "=SF8XZ9=XnXq6TwSi(m({$#TdL!8+Y%V=QA3B@B4d014MN*^bWxJvCX;D<e3wtfogSfg$3pX8E_x@WaYblzTCX-oDEi`=-F6ju4VB)STyUa}fiW1_?1IDqxMutc\n",
    "U_cgnKJ?V+ci%8SQ{4EXs*J&c%ZOg%L414>h*}2JzE|EQCaX88<d<<irRAuFYNJu@L6<UMqdr1R8yfHX?>{LWMpZx-Qq8&Qgbl_iNJZ(@Nwp7H>JBms@XVI{D2%\n",
    "U9V76L!S=Jv1NHl9%N4uMiu3$p#v|~5|?z0awM35QBG1Qhf+Z4d;q#JlPeQlQXqCxX45Jn2V~9+r~^AE9_&D^y;%|4T(ALCx0wPIVX55JJh)rC)oBk-<9pTFjY<\n",
    "=jJ$mV1mFGI~LjkFcp1PBFe#GZ5RK6J7-)M>8%m8j;E&v6~7*T<RDS@CxO1#|;<vD;Y+jjFrKzo%`oWpGh7XfYK)<g)r+}Id$4$TN`MVJu+q9DW~DAf=F%wD~s>\n",
    "!-!#6}xjoXoYy|L-5^p)YW>thIgkp&v{mxI>Njob^7;dURta(mAfY>BCUsoB!#R9@>)(#qso8_r6pt<8_8C>mbXA}YJe0LH+J*{HE38cDDD7((<@peWtO8bM(pN\n",
    "YL~B)4bzKr1fCQDdQDqx2k^lhi1^^GO+7G5rORe>rYR6nL*;=f~En1KWMi7WdpfK5ZH#N>)wr2Sj3!yn#w2hbrp+pj6szztMA#(~m<r`BHW80H#LrQ?N8^R=QI<\n",
    "#UHTd*NYNf|8wCM90&jA#JuR<x`DG~KPRAt*#v<FSNb0|jQ@)osK>YZc}0y8saE$%EDFzet>_uDlE0?Vkp{s&wuktBq6blj)ihdi+qKIhSpT9*vx>72dx|Mf-hx\n",
    "^V<+TJSk>Si@e6PKzeeq$PjX7qzDft>|3!AwkXA$D<#fo!U8Os+t#sQMp^|JbGe!XwmrCwz4h694vGC?@dsTu@B$IC)MO#?QX;=_MVVm^MpGu8XGq4EqW-@q3KR\n",
    "%M|98qYPe#^@j6MWQLs~q=3feu?@%b;|0~e3{prv7_w=XK@<+6><M)YAEv{+<mA%ikQ%Yso3mEMvjb?0dgc)0$5%Uae#<{e6KxQS`?%*ucb%D_n2imx$FVKG{t7\n",
    "m%Q^Ni0&r7F0QKOFPc7H>IxC<69fXw>WE#>M3If#%M?+cD5zLyr3B8F)|$UB#2~vlB#5=sLYv~x~u}64=j(O<C>{(%Lxh?&G+z*REG(DM}|hAXhT-dT}*5H4$w#\n",
    "?MX5Ha7UV>`4+e0T5Hn+2Yl~h-ct%{==+oRDbA1^TacV_nJRM?tCZEZ?r1FT#EcO!wXdtoT@8`fX%nQDZbBk}uKs}`Npp9T&aT`)%^v$;HL%z=goxD%8@BwLSAg\n",
    "@F**fOdcV^!|_TJxM1WJk2(%a!qa%KOE2V3Z=Qu_J<B_stuWBNE)ZQZBm1l6>+<z`<z_=G|sVOjP=}Rw6nvPj@sjnCq%X1eg|iwm}k}Uu0;DViKikgT<k~hj6RD\n",
    "@f+|hRtGN|M~$V!pb0V?)N6sw@8a#jn_8_@5h<40#kLNu4#4fT)nT=mi*z$ADcr(Y7ni#893JhB!LGTk2wQk=^s5UBmGY3^1md-dxc=^7n<Ww?T#3t?hx3Wgd4r\n",
    "hVb1jvQ&&KnP@Jp}}5rm+k7?lyhlnkH<=Q61fG&p5C$^_OGc*<&zS>a(vsp6)<mptenah9fus>Wtp)LABI9Ls`CD>n&3o7Ezlr8mQ2At_iRAhJ&-HyN0P<l3gMC\n",
    "#INZl5TD>K`7G^IAckuRpk*oZZT-XzHu?0c8Vzo3+rvPNQY8lklO_KjN)+4PATM<S(k)gPmf+u+KIw%%v&BVce@9tM<%6|^+-#h#iF`eqoJsL1W#h*5)y*cvi2z\n",
    "y9`25-12=`?7Be5rp^I&e=GOAcK}*u85fum~rX2yBF>6C9qGQAiZ$PP@gkFwY^(k=T&_T(xS1U>g*=r>^S1r3a66<(9ve1a3Oz3iA5D+=VLP;UDrX7P~X2K@TL&\n",
    "BXS2WU8)jkO9hlFGA2itO+efgFn@q_R2$5MhjQb%nvg2aU@FLa~#BGtOA<g)Axp)S(dN8I?_iJe`&{DAp}%%DCQ+YdFawaF$+lM6~H6v(th$I7D3PB<d+TMz>(5\n",
    ";ow^;KO4mD89?b!b1S`Jz2}?Tc)p``cLE(V%HCU<H(MKX2Zg!}lb?S{$|$-wj$;8t7$lN{WF*KY6iEbu8U(V@+g}Aj3P>F*Oq7Ml^nuYz9(sFS{ysK-J$w6iABX\n",
    "JMgBG;e^&!`?j3p5O=#6@j2xKF$bQ*F-(83XxnPwmn8!VG)Xv7ekIBYPXh$0ctM?`$6VM@5fgx%ZI2C6vjqY<8lRb5*|z-~zpMv=5d8=-QCmmIYvmR9xIaa7!_c\n",
    "XFj;EUcxf1(_<I$F5;?tp-p<s7tb<NkmBrAfawKK_iY4iZ<RT+trAmD4O=_zCRUZu#;-V!u2Ue#ucN?A>FAib9!Ldx@`2Yl;UeFJ_o$~opZfu8z5nYk*Mquhv%B\n",
    "(inDbAi5EA<1u1J*iYU}sW}fY6i)eE0CUv59OGtwtOcG*}Xf}aOt%gY?lt5=p5C|;M4iBdw^e@ML#tA0M$I&(HiK9MyXKUb=#KkEjJ7*KQ+q7tH)#rX+360C!8}\n",
    "^u_GtQl8H}Utdg_Wz}Sg=0c`DIqF$B&fDVedFSJbGNt4mn(1PLEaHa_KC!3=0>1)!$*+XBtIOheZ^SMJ_Pg&d#5YUp_dEP+<91;)bhDcB8qRXAtpCNYd{Z!r4=e\n",
    "kr5#YC6*FixHtxKlJuY`&jJ?U^Bvu2XF5peB9&^w-f_HlbXwro1qtPE3p&dyEYTI9M2J>_LL~(llJgn4+DF4uIE|Aj3htDhF#;GUl0fLPyh=wE=8n*k^LOSnwv0\n",
    "fpP;;CtN_Q<EFBs(Z|2EhU?!ttl?Sr%^e<fmxpt*WxiXTbAKeet|7Bpi*DU5CGSlvYrS?!n{lnLcNR{1K0q4ltmJ{UPW#U}}&rs;+g6$JIMx#w)t5g^RAiq`ioL\n",
    "~ZG-XXdSV?y9*kqL9*TZD>GJLnJ6m*8s>~`5v+IgzYz)(L{oTqY_XwS~6?<yChOfWeI;S1p-2i8)HTEUjG+lHSg81a(PJNl*mLCp<qMKO{DE^F^UqHB8(<9YtGu\n",
    "JT&n5e*JEgyHzK*tJa)w8E=^Tni++9B#qC{8m2;Zkb<39Jgr*ru6}&nkV>U+cxgbSF7ps-%=~(r0_ACS{68ojyA+bePxocC$GNKq!=~k(#xnouYur>rEENovsxu\n",
    "kDS_xRT>078V!Yw-DX_IoW;YhG$LEK*Pvp3dAN@vW)7TJS5HwasAGH3H2u8qs1X*7o;pjBOeX8+lr(T#Ai-*1juV8jXLJ*I!=yJ$^mruT`!ke`eL+F1fKbWT4o-\n",
    "O~<#j&At}Zb;Mwbd3PgFYvI>MBl1^Ye&kIHdR9`Z&2vGtZ?kS=`mSPvF>Dl862Vw}{+=~>m3V8W18OW3NFi6d+uqG>HLc`iLl9#kC^5C>)#SI;UO@^kM!ATzRA|\n",
    "?xwz9Q!)~~^GN+c<%8YBufg8>vqE$~;Cv@!I6C=H<Vm2%X)Vbl{ecwk`@!ZN0bn&}8|(vQ4=)KXSahJskUY_+;$Vxz52MHHB#Bmi%<E|3yaj2eNE$OJ}2T$3$(d\n",
    "3i1(`}6-Fo2Ff%_xbOywMe7|wcF=QVg8r(58Y-G4fp9&1V8paNW>)>{WIVFkN%nMc^x^}%c%cZqx`qmEYn^-+v;XT#1CtCy*Z3zvR_4KOjW@U_ZY3{aQco}w?c7\n",
    "l4Pasi|8pU7ri>K~;S@X-vHjzSG;InnoHT<ZqwxWx7ZA8$+rbB~^uS`<<uF|Nlho9c_UD=IvXSgqG5B1S7We1p;kCJzo1ONr9=N*+7aWB}8~B|<e*WQNXsWBIIL\n",
    "qle=P*B6j4+4k&Yp2j^=Z@Yi!^+G9px)u_Ft=!Te(FO@Zg8=yIub{<2U*B^&hBps*x1`O1S*2{*pe)POsm|(mqKpUm-!|d(Y+NHjgpVEEm90I6DZDaEaiTJIYOy\n",
    "GbAVVUo6_=b@@Hv(N+-X7uzN`@g!;B`AO0cM~qZv3>2V=GFm}N160t6Q2qF<mCKdS>$cm9+rKf-F(QbHq5_SNo+)2M(^z=>`|;~CczEB-ez4!zeqY{qtvQG+Hoh\n",
    "lM4WfQuzc16OB#a_-s<8U}oW&sj$fW^ICJAcRQ&JBxgpEvMelav?l%`lY6R=_fY)x$UXd_dWNp0)l>%R%&R6>Vy7OwEyF+ScN9!?axnTU}6rDI6B0xQeKnKUJeO\n",
    "g)Az^-mDT&FT42L?}-$21%G<H?6Sr{pvqOUlg~z-{~_g5Sc$%PFedpFdGuYt<-eiqI-0d>AV!2oI19KS03jbeb4FAFLd8O{x0N-aG@dkN`cw\"\"\"\n",
    "\n",
    "grp = {\n",
    "        i:[v.split(':') for v in x] for i,x in[(i,x.split(',')) \n",
    "        for i,x in enumerate(\n",
    "            bz2.decompress(b85decode(c2.replace('\\n',''))).decode('utf-8').split('|')) \n",
    "        if x != ''\n",
    "]}\n",
    "\n",
    "def get_words(grp=grp,s=600,pfx=''):\n",
    "\n",
    "    for n in grp[s]:\n",
    "        try:           \n",
    "            yield from get_words(grp,int(n[1]),pfx+n[0])\n",
    "        except ValueError as e:\n",
    "            yield pfx + n[0] + n[1]\n",
    "        except KeyError as e:\n",
    "            yield pfx + n\n",
    "\n",
    "\n"
   ]
  },
  {
   "cell_type": "markdown",
   "metadata": {
    "id": "H1Tf0iQOXzrR"
   },
   "source": [
    "### 1.3 The helper code (filter class)\n",
    "\n",
    "This class implements a Wordle filter object.  You supply it with the guesses you have used so far and the responses that you got from the game.  In turn this class tunes its filter to let the potential candidates words through"
   ]
  },
  {
   "cell_type": "code",
   "execution_count": null,
   "metadata": {
    "id": "ABJyZ0HKDkT-"
   },
   "outputs": [],
   "source": [
    "class StateError(Exception):\n",
    "    def __init__(self, *args):\n",
    "        Exception(*args)\n",
    "\n",
    "\n",
    "class InvalidInput(Exception):\n",
    "    def __init__(self, *args):\n",
    "        Exception(*args)\n",
    "\n",
    "\n",
    "class WordleFilter:\n",
    "\n",
    "    def __init__(self):\n",
    "        self._guess = None                    # Current guess\n",
    "        self._neg_letters = set()             # Set of rejected letters\n",
    "        self._pos_letters = set()             # Set of accepted letters\n",
    "        self._exact_letters = ['.'] * 5       # Grid of letters in their correct positions\n",
    "        self._exact_neg_letters = ['.'] * 5   # Grid of letters that should not appear in those positions\n",
    "\n",
    "    def guess(self, word):\n",
    "      \"\"\"\n",
    "      Supply a guess\n",
    "      \"\"\"\n",
    "      self._guess = word\n",
    "\n",
    "    def feedback(self, fb):\n",
    "      \"\"\"\n",
    "      Supply the feedback we got from the game\n",
    "      \"\"\"\n",
    "\n",
    "      if len(fb) != 5:\n",
    "          raise InvalidInput(f'Must give all feedback positions, got {len(fb)} : {fb}')\n",
    "\n",
    "      for i in range(5):\n",
    "          if fb[i] == '?':\n",
    "              self._neg_letters |= {self._guess[i]}\n",
    "          elif fb[i] == 'y':\n",
    "              self._pos_letters |= {self._guess[i]}\n",
    "              self._exact_neg_letters[i] = self._guess[i]\n",
    "          elif fb[i] == 'g':\n",
    "              self._exact_letters[i] = self._guess[i]\n",
    "              self._pos_letters |= {self._guess[i]}\n",
    "          else:\n",
    "              raise InvalidInput(f'Unrecognized feedback {fb[i]}')\n",
    "\n",
    "      self._neg_letters -= self._pos_letters\n",
    "      self._guess = None\n",
    "\n",
    "    def filter(self):\n",
    "      \"\"\"\n",
    "      Returns the filter function that reflects current state\n",
    "      \"\"\"\n",
    "\n",
    "      def flt(word):\n",
    "          return all((l not in word for l in self._neg_letters)) and \\\n",
    "                  all((l in word for l in self._pos_letters)) and \\\n",
    "                  all((a == '.' or a == b for a, b in zip(self._exact_letters, word))) and \\\n",
    "                  all((a == '.' or a != b for a, b in zip(self._exact_neg_letters, word)))\n",
    "\n",
    "      if self._guess is not None:\n",
    "          raise StateError('Must enter feedback after choosing a guess word')\n",
    "\n",
    "      return flt\n"
   ]
  },
  {
   "cell_type": "markdown",
   "metadata": {
    "id": "DmWEhWZXh29k"
   },
   "source": [
    "## 2. The Puzzle Solver\n",
    "\n",
    "Now we can start solving today's puzzle.  Open the [https://www.powerlanguage.co.uk/wordle/](httpshttps://www.powerlanguage.co.uk/wordle/) in another browser window and execute the following cells."
   ]
  },
  {
   "cell_type": "markdown",
   "metadata": {
    "id": "GHmC5s2ph_p9"
   },
   "source": [
    "### 2.1 Initialize the filter\n",
    "\n",
    "We need to initialize the solver first by creating a blank filter and initial word list\n",
    "\n",
    "Run this only once per each puzzle"
   ]
  },
  {
   "cell_type": "code",
   "execution_count": null,
   "metadata": {
    "id": "TZmv9uuaDkc2"
   },
   "outputs": [],
   "source": [
    "## Run this only once per puzzle\n",
    "ll = list(get_words())\n",
    "flt = WordleFilter()"
   ]
  },
  {
   "cell_type": "markdown",
   "metadata": {
    "id": "RoTIQGkCiymD"
   },
   "source": [
    "### 2.2 Get the next guess\n",
    "\n",
    "\n",
    "Run the cell below to get the next guess to use"
   ]
  },
  {
   "cell_type": "code",
   "execution_count": null,
   "metadata": {
    "colab": {
     "base_uri": "https://localhost:8080/"
    },
    "id": "Qvlpg146bIO6",
    "outputId": "0083faed-e50e-4a01-de58-ee46365a5385"
   },
   "outputs": [
    {
     "name": "stdout",
     "output_type": "stream",
     "text": [
      "share\n"
     ]
    }
   ],
   "source": [
    "# Intialize some variables\n",
    "lpos = list(range(5))  # Position to try next\n",
    "ll = list(ll)\n",
    "wrd = ''\n",
    "\n",
    "# We'll run until we run out of positions to change\n",
    "while len(lpos) > 0:\n",
    "\n",
    "    # Using the current wordlist compute the frequency of each letter in each position\n",
    "    fq = [defaultdict(int) for i in range(5)]\n",
    "    for l in ll:\n",
    "        for i in range(5):\n",
    "            fq[i][l[i]] += 1\n",
    "    \n",
    "    # Compose a candidate word by selecting the most frequent letter for each position\n",
    "    cand = [max(fq[n].keys(), key=lambda x: fq[n][x]) for n in range(5)]\n",
    "    wrd = ''.join(cand)\n",
    "    \n",
    "    # Print the word we have came up so far\n",
    "    print(wrd)\n",
    "    \n",
    "    # If this word is in the list we found our best guess\n",
    "    if wrd in ll:\n",
    "        break\n",
    "        \n",
    "    # If the word not in the list we need to make some adjustments\n",
    "\n",
    "    # First let's find out which letter we should keep\n",
    "    # we keep the one that gives us the maximum number of possible words\n",
    "    # in the end    \n",
    "\n",
    "    # Note we only consider positions that we did not pin so far\n",
    "    # At the first iteration we don't have anything pinned, this means\n",
    "    # any position is up for grabs \n",
    "    pfrq = [fq[n][cand[n]] for n in range(5)]\n",
    "    mxk = max(lpos, key=lambda x: pfrq[x])\n",
    "\n",
    "    # Once we chosen which letter we keep, we filter our word list to\n",
    "    # keep only the words that have exact letter at the postion we have\n",
    "    # chosen for pinning\n",
    "    ll = [l for l in ll if l[mxk] == cand[mxk]]\n",
    "\n",
    "    # And now we pin this position, i.e. it will be excluded from the rest\n",
    "    # of the iterations\n",
    "    lpos = [l for l in lpos if l != mxk]"
   ]
  },
  {
   "cell_type": "code",
   "execution_count": null,
   "metadata": {
    "colab": {
     "base_uri": "https://localhost:8080/",
     "height": 35
    },
    "id": "vfNUVc34bb-Y",
    "outputId": "527a5abb-db9a-4f21-ac1e-1ae5fff38430"
   },
   "outputs": [
    {
     "data": {
      "application/vnd.google.colaboratory.intrinsic+json": {
       "type": "string"
      },
      "text/plain": [
       "'share'"
      ]
     },
     "execution_count": 9,
     "metadata": {},
     "output_type": "execute_result"
    }
   ],
   "source": [
    "wrd"
   ]
  },
  {
   "cell_type": "markdown",
   "metadata": {
    "id": "SRPpIhc4lVpw"
   },
   "source": [
    "### 2.3 Enter the guess\n",
    "\n",
    "Enter the guess shown above into the game and modify the line ```flt.feedback('?????')``` to reflect the feedback you got from the game.\n",
    "\n",
    "The feedback is a string for 5 characters,  each character can have on of three values\n",
    "\n",
    "\n",
    "\n",
    "| Value  | Meaning   |\n",
    "|--------|-----------|\n",
    "|  ?     | for the *gray* letter, mystery word does not contain this letter  |\n",
    "|  y     | for the *yellow* letters, mystery word does contain this letter, but it's in a wrong position |\n",
    "|  g     | for the *green* letters, mystery word does contain this letter and it is in the correct position   |\n",
    "\n",
    "\n",
    "\n",
    "\n",
    "For example you guess word was `penal` and you got the following feedback from the game\n",
    "\n",
    "\n",
    "\n",
    "\n",
    "\n",
    "![image.png](data:image/png;base64,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)\n",
    "\n",
    "\n",
    "Your should change the line below to be\n",
    "\n",
    "```flt.feedback('gy?gy')```\n",
    "\n",
    "After you change the feedback value, execute the cell and move on."
   ]
  },
  {
   "cell_type": "code",
   "execution_count": null,
   "metadata": {
    "id": "jHhMi15ZbeeB"
   },
   "outputs": [],
   "source": [
    "flt.guess(wrd)\n",
    "flt.feedback('?????')"
   ]
  },
  {
   "cell_type": "markdown",
   "metadata": {
    "id": "LGiomwqT2B2I"
   },
   "source": [
    "Now let's generate the list of word that satisfies the feedback"
   ]
  },
  {
   "cell_type": "code",
   "execution_count": null,
   "metadata": {
    "id": "_u1PPG-Afb_4"
   },
   "outputs": [],
   "source": [
    "ll = list(filter(flt.filter(), get_words()))"
   ]
  },
  {
   "cell_type": "markdown",
   "metadata": {
    "id": "_ihwF2J_2P7S"
   },
   "source": [
    "Let's see how we can use our next guess"
   ]
  },
  {
   "cell_type": "code",
   "execution_count": null,
   "metadata": {
    "colab": {
     "base_uri": "https://localhost:8080/"
    },
    "id": "AR4WVa1vffSj",
    "outputId": "a75af887-12a4-4067-924e-8103e5f11c90"
   },
   "outputs": [
    {
     "data": {
      "text/plain": [
       "238"
      ]
     },
     "execution_count": 9,
     "metadata": {},
     "output_type": "execute_result"
    }
   ],
   "source": [
    "len(ll)"
   ]
  },
  {
   "cell_type": "markdown",
   "metadata": {
    "id": "iFoKzybs2c5o"
   },
   "source": [
    "And now we should move on to compute the next guess.  Go to the section 2.2 above and repeat the process. If the number of possible guess is very small you can use the cell below to examine them and try your luck by picking a random word from the list.\n",
    "\n",
    "The performance of this solver degrades when the number of possible choices gets very small.  If there are less than 3 choices left it is pretty much a random guess."
   ]
  },
  {
   "cell_type": "code",
   "execution_count": null,
   "metadata": {
    "id": "3Xj2U8DQfhKT"
   },
   "outputs": [],
   "source": [
    "ll"
   ]
  },
  {
   "cell_type": "code",
   "execution_count": null,
   "metadata": {
    "id": "E0Hl3EvSuJHU"
   },
   "outputs": [],
   "source": []
  }
 ],
 "metadata": {
  "colab": {
   "authorship_tag": "ABX9TyP2PSCAAS2hcfV/hQ2Lhz2B",
   "collapsed_sections": [],
   "include_colab_link": true,
   "name": "SolveWordle.ipynb",
   "provenance": [],
   "toc_visible": true
  },
  "kernelspec": {
   "display_name": "Python 3",
   "language": "python",
   "name": "python3"
  },
  "language_info": {
   "codemirror_mode": {
    "name": "ipython",
    "version": 3
   },
   "file_extension": ".py",
   "mimetype": "text/x-python",
   "name": "python",
   "nbconvert_exporter": "python",
   "pygments_lexer": "ipython3",
   "version": "3.8.6"
  }
 },
 "nbformat": 4,
 "nbformat_minor": 1
}
